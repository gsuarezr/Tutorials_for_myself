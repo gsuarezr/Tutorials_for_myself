{
 "cells": [
  {
   "cell_type": "code",
   "execution_count": 1,
   "metadata": {},
   "outputs": [],
   "source": [
    "from sympy import *\n",
    "init_printing()"
   ]
  },
  {
   "cell_type": "code",
   "execution_count": 2,
   "metadata": {},
   "outputs": [],
   "source": [
    "theta1,theta2,theta3,theta4=symbols('theta1 theta2 theta3 theta4 ')\n",
    "w1,w2,gamma1,gamma2,n1,n2,g=symbols('w1 w2 gamma1 gamma2  n1 n2 g',real=True)\n",
    "lambda1=Symbol('lambda',real=True)"
   ]
  },
  {
   "cell_type": "code",
   "execution_count": 3,
   "metadata": {},
   "outputs": [
    {
     "data": {
      "text/latex": [
       "$\\displaystyle \\left[\\begin{matrix}- \\frac{\\gamma_{1}}{2} - i w_{1} & - i \\lambda\\\\i \\lambda & - \\frac{\\gamma_{1}}{2} + i w_{1}\\end{matrix}\\right]$"
      ],
      "text/plain": [
       "⎡  γ₁                    ⎤\n",
       "⎢- ── - ⅈ⋅w₁     -ⅈ⋅λ    ⎥\n",
       "⎢  2                     ⎥\n",
       "⎢                        ⎥\n",
       "⎢               γ₁       ⎥\n",
       "⎢    ⅈ⋅λ      - ── + ⅈ⋅w₁⎥\n",
       "⎣               2        ⎦"
      ]
     },
     "execution_count": 3,
     "metadata": {},
     "output_type": "execute_result"
    }
   ],
   "source": [
    "maw=-I*Matrix([[w1,lambda1],[-lambda1,-w1]])-(gamma1/2)*Matrix([[1,0],[0,1]])\n",
    "maw"
   ]
  },
  {
   "cell_type": "code",
   "execution_count": 4,
   "metadata": {},
   "outputs": [
    {
     "data": {
      "text/latex": [
       "$\\displaystyle \\left[\\begin{matrix}\\theta_{1} & \\theta_{2}\\\\\\theta_{3} & \\theta_{4}\\end{matrix}\\right]$"
      ],
      "text/plain": [
       "⎡θ₁  θ₂⎤\n",
       "⎢      ⎥\n",
       "⎣θ₃  θ₄⎦"
      ]
     },
     "execution_count": 4,
     "metadata": {},
     "output_type": "execute_result"
    }
   ],
   "source": [
    "otras=Matrix([[theta1,theta2],[theta3,theta4]])\n",
    "otras"
   ]
  },
  {
   "cell_type": "code",
   "execution_count": 5,
   "metadata": {},
   "outputs": [],
   "source": [
    "Eqs=maw*otras+otras*conjugate(maw.T)"
   ]
  },
  {
   "cell_type": "code",
   "execution_count": 6,
   "metadata": {},
   "outputs": [],
   "source": [
    "F1=gamma1*(n1+ 1/2)* Matrix([[1,0],[0,1]])\n",
    "F2=gamma2*(n2+ 1/2)* Matrix([[1,0],[0,1]])\n"
   ]
  },
  {
   "cell_type": "code",
   "execution_count": 7,
   "metadata": {},
   "outputs": [],
   "source": [
    "sols=solve(Eqs+F1,otras,rational=False,simplify=False)\n",
    "solus=Matrix([[sols[otras[0]],sols[otras[1]]],[sols[otras[2]],sols[otras[3]]]])"
   ]
  },
  {
   "cell_type": "code",
   "execution_count": 8,
   "metadata": {},
   "outputs": [],
   "source": [
    "gaga = gcd(tuple(solus))\n",
    "\n",
    "A_v2 = MatMul(nsimplify(gaga),(nsimplify(solus)/nsimplify(gaga)),evaluate = False)\n"
   ]
  },
  {
   "cell_type": "code",
   "execution_count": 9,
   "metadata": {},
   "outputs": [
    {
     "data": {
      "text/latex": [
       "$\\displaystyle \\left(\\frac{1}{8}\\right) \\left(2 n_{1} + 1\\right) \\frac{1}{\\gamma_{1}^{2} - 4 \\lambda^{2} + 4 w_{1}^{2}} \\left[\\begin{matrix}4 \\gamma_{1}^{2} + 16 w_{1}^{2} & - 8 \\lambda \\left(i \\gamma_{1} + 2 w_{1}\\right)\\\\8 \\lambda \\left(i \\gamma_{1} - 2 w_{1}\\right) & 4 \\gamma_{1}^{2} + 16 w_{1}^{2}\\end{matrix}\\right]$"
      ],
      "text/plain": [
       "                       ⎡     2        2                      ⎤\n",
       "       2⋅n₁ + 1        ⎢ 4⋅γ₁  + 16⋅w₁     -8⋅λ⋅(ⅈ⋅γ₁ + 2⋅w₁)⎥\n",
       "──────────────────────⋅⎢                                     ⎥\n",
       "  ⎛  2      2       2⎞ ⎢                         2        2  ⎥\n",
       "8⋅⎝γ₁  - 4⋅λ  + 4⋅w₁ ⎠ ⎣8⋅λ⋅(ⅈ⋅γ₁ - 2⋅w₁)    4⋅γ₁  + 16⋅w₁   ⎦"
      ]
     },
     "execution_count": 9,
     "metadata": {},
     "output_type": "execute_result"
    }
   ],
   "source": [
    "simplify(A_v2)"
   ]
  },
  {
   "cell_type": "code",
   "execution_count": 10,
   "metadata": {},
   "outputs": [
    {
     "data": {
      "image/png": "[encoded data removed]",
      "text/latex": [
       "$\\displaystyle \\left( 2, \\  2\\right)$"
      ],
      "text/plain": [
       "(2, 2)"
      ]
     },
     "execution_count": 10,
     "metadata": {},
     "output_type": "execute_result"
    }
   ],
   "source": [
    "A_v2.shape"
   ]
  },
  {
   "cell_type": "code",
   "execution_count": 11,
   "metadata": {},
   "outputs": [],
   "source": [
    "def LyapunovSS(W,F):\n",
    "    x,y=W.shape\n",
    "    x1,y1=F.shape\n",
    "    sols=eye(x)\n",
    "    if x==y:\n",
    "        if x1==y1:\n",
    "            if x1==y:\n",
    "                theta=symbols('Theta1:'+str((y+1)**2 +1))\n",
    "                otra=eye(y)\n",
    "                for i in range((y)**2):\n",
    "                    otra[i]=theta[i]\n",
    "                Eq=W*otra+otra*conjugate(W.T)\n",
    "                sols=solve(Eq+F,otra,rational=False,simplify=False,quick=True)\n",
    "                for i in range(y**2):\n",
    "                    otra[i]=sols[otra[i]]\n",
    "                #g = gcd(tuple(otra))\n",
    "                #A_v2 = MatMul(nsimplify(g),(nsimplify(otra)/nsimplify(g)),evaluate = False)\n",
    "            else:\n",
    "                print('The input matrices are not the same shape')\n",
    "        else:\n",
    "            print('One of the input matrices is not a square matrix')\n",
    "    return simplify(otra)\n",
    "                \n",
    "        "
   ]
  },
  {
   "cell_type": "code",
   "execution_count": 12,
   "metadata": {},
   "outputs": [
    {
     "data": {
      "text/latex": [
       "$\\displaystyle \\left[\\begin{matrix}\\frac{1.0 \\left(1.0 \\gamma_{1}^{2} n_{1} + 0.5 \\gamma_{1}^{2} + 4.0 n_{1} w_{1}^{2} + 2.0 w_{1}^{2}\\right)}{1.0 \\gamma_{1}^{2} - 4.0 \\lambda^{2} + 4.0 w_{1}^{2}} & - \\frac{1.0 \\lambda \\left(2.0 i \\gamma_{1} n_{1} + 1.0 i \\gamma_{1} + 4.0 n_{1} w_{1} + 2.0 w_{1}\\right)}{1.0 \\gamma_{1}^{2} - 4.0 \\lambda^{2} + 4.0 w_{1}^{2}}\\\\\\frac{1.0 \\lambda \\left(2.0 i \\gamma_{1} n_{1} + 1.0 i \\gamma_{1} - 4.0 n_{1} w_{1} - 2.0 w_{1}\\right)}{1.0 \\gamma_{1}^{2} - 4.0 \\lambda^{2} + 4.0 w_{1}^{2}} & \\frac{1.0 \\left(1.0 \\gamma_{1}^{2} n_{1} + 0.5 \\gamma_{1}^{2} + 4.0 n_{1} w_{1}^{2} + 2.0 w_{1}^{2}\\right)}{1.0 \\gamma_{1}^{2} - 4.0 \\lambda^{2} + 4.0 w_{1}^{2}}\\end{matrix}\\right]$"
      ],
      "text/plain": [
       "⎡     ⎛      2            2            2         2⎞                           \n",
       "⎢ 1.0⋅⎝1.0⋅γ₁ ⋅n₁ + 0.5⋅γ₁  + 4.0⋅n₁⋅w₁  + 2.0⋅w₁ ⎠   -1.0⋅λ⋅(2.0⋅ⅈ⋅γ₁⋅n₁ + 1.\n",
       "⎢ ─────────────────────────────────────────────────   ────────────────────────\n",
       "⎢                   2        2         2                                  2   \n",
       "⎢             1.0⋅γ₁  - 4.0⋅λ  + 4.0⋅w₁                             1.0⋅γ₁  - \n",
       "⎢                                                                             \n",
       "⎢                                                           ⎛      2          \n",
       "⎢1.0⋅λ⋅(2.0⋅ⅈ⋅γ₁⋅n₁ + 1.0⋅ⅈ⋅γ₁ - 4.0⋅n₁⋅w₁ - 2.0⋅w₁)    1.0⋅⎝1.0⋅γ₁ ⋅n₁ + 0.5⋅\n",
       "⎢───────────────────────────────────────────────────    ──────────────────────\n",
       "⎢                   2        2         2                                  2   \n",
       "⎣             1.0⋅γ₁  - 4.0⋅λ  + 4.0⋅w₁                             1.0⋅γ₁  - \n",
       "\n",
       "                             ⎤\n",
       "0⋅ⅈ⋅γ₁ + 4.0⋅n₁⋅w₁ + 2.0⋅w₁) ⎥\n",
       "─────────────────────────────⎥\n",
       "     2         2             ⎥\n",
       "4.0⋅λ  + 4.0⋅w₁              ⎥\n",
       "                             ⎥\n",
       "  2            2         2⎞  ⎥\n",
       "γ₁  + 4.0⋅n₁⋅w₁  + 2.0⋅w₁ ⎠  ⎥\n",
       "───────────────────────────  ⎥\n",
       "     2         2             ⎥\n",
       "4.0⋅λ  + 4.0⋅w₁              ⎦"
      ]
     },
     "execution_count": 12,
     "metadata": {},
     "output_type": "execute_result"
    }
   ],
   "source": [
    "LyapunovSS(maw,F1)"
   ]
  },
  {
   "cell_type": "code",
   "execution_count": 13,
   "metadata": {},
   "outputs": [
    {
     "data": {
      "text/latex": [
       "$\\displaystyle \\left[\\begin{matrix}- i w_{1} & 0 & - i g & 0\\\\0 & i w_{1} & 0 & i g\\\\- i g & 0 & - i w_{1} & 0\\\\0 & i g & 0 & i w_{1}\\end{matrix}\\right]$"
      ],
      "text/plain": [
       "⎡-ⅈ⋅w₁   0    -ⅈ⋅g    0  ⎤\n",
       "⎢                        ⎥\n",
       "⎢  0    ⅈ⋅w₁    0    ⅈ⋅g ⎥\n",
       "⎢                        ⎥\n",
       "⎢-ⅈ⋅g    0    -ⅈ⋅w₁   0  ⎥\n",
       "⎢                        ⎥\n",
       "⎣  0    ⅈ⋅g     0    ⅈ⋅w₁⎦"
      ]
     },
     "execution_count": 13,
     "metadata": {},
     "output_type": "execute_result"
    }
   ],
   "source": [
    "e=Matrix([[-I*w1,0,-I*g,0],[0,I*w1,0,I*conjugate(g)],[-I*conjugate(g),0,-I*w1,0],[0,I*g,0,I*w1]])\n",
    "e"
   ]
  },
  {
   "cell_type": "code",
   "execution_count": 14,
   "metadata": {},
   "outputs": [
    {
     "data": {
      "text/latex": [
       "$\\displaystyle \\left[\\begin{matrix}- \\frac{\\gamma_{1}}{2} & 0 & 0 & 0\\\\0 & - \\frac{\\gamma_{1}}{2} & 0 & 0\\\\0 & 0 & - \\frac{\\gamma_{1}}{2} & 0\\\\0 & 0 & 0 & - \\frac{\\gamma_{1}}{2}\\end{matrix}\\right]$"
      ],
      "text/plain": [
       "⎡-γ₁                   ⎤\n",
       "⎢────   0     0     0  ⎥\n",
       "⎢ 2                    ⎥\n",
       "⎢                      ⎥\n",
       "⎢      -γ₁             ⎥\n",
       "⎢ 0    ────   0     0  ⎥\n",
       "⎢       2              ⎥\n",
       "⎢                      ⎥\n",
       "⎢            -γ₁       ⎥\n",
       "⎢ 0     0    ────   0  ⎥\n",
       "⎢             2        ⎥\n",
       "⎢                      ⎥\n",
       "⎢                  -γ₁ ⎥\n",
       "⎢ 0     0     0    ────⎥\n",
       "⎣                   2  ⎦"
      ]
     },
     "execution_count": 14,
     "metadata": {},
     "output_type": "execute_result"
    }
   ],
   "source": [
    "f=Matrix([[-gamma1/2,0,0,0],[0,-gamma1/2,0,0],[0,0,-gamma1/2,0],[0,0,0,-gamma1/2]])\n",
    "f"
   ]
  },
  {
   "cell_type": "code",
   "execution_count": 15,
   "metadata": {},
   "outputs": [
    {
     "data": {
      "text/latex": [
       "$\\displaystyle \\left[\\begin{matrix}- \\frac{\\gamma_{1}}{2} - i w_{1} & 0 & - i g & 0\\\\0 & - \\frac{\\gamma_{1}}{2} + i w_{1} & 0 & i g\\\\- i g & 0 & - \\frac{\\gamma_{1}}{2} - i w_{1} & 0\\\\0 & i g & 0 & - \\frac{\\gamma_{1}}{2} + i w_{1}\\end{matrix}\\right]$"
      ],
      "text/plain": [
       "⎡  γ₁                                              ⎤\n",
       "⎢- ── - ⅈ⋅w₁       0          -ⅈ⋅g           0     ⎥\n",
       "⎢  2                                               ⎥\n",
       "⎢                                                  ⎥\n",
       "⎢               γ₁                                 ⎥\n",
       "⎢     0       - ── + ⅈ⋅w₁       0           ⅈ⋅g    ⎥\n",
       "⎢               2                                  ⎥\n",
       "⎢                                                  ⎥\n",
       "⎢                            γ₁                    ⎥\n",
       "⎢   -ⅈ⋅g           0       - ── - ⅈ⋅w₁       0     ⎥\n",
       "⎢                            2                     ⎥\n",
       "⎢                                                  ⎥\n",
       "⎢                                         γ₁       ⎥\n",
       "⎢     0           ⅈ⋅g           0       - ── + ⅈ⋅w₁⎥\n",
       "⎣                                         2        ⎦"
      ]
     },
     "execution_count": 15,
     "metadata": {},
     "output_type": "execute_result"
    }
   ],
   "source": [
    "W=e+f\n",
    "W"
   ]
  },
  {
   "cell_type": "code",
   "execution_count": 16,
   "metadata": {},
   "outputs": [
    {
     "data": {
      "text/latex": [
       "$\\displaystyle \\left[\\begin{matrix}\\gamma_{1} \\left(n_{1} + 0.5\\right) & 0 & 0 & 0\\\\0 & \\gamma_{1} \\left(n_{1} + 0.5\\right) & 0 & 0\\\\0 & 0 & \\gamma_{1} \\left(n_{2} + 0.5\\right) & 0\\\\0 & 0 & 0 & \\gamma_{1} \\left(n_{2} + 0.5\\right)\\end{matrix}\\right]$"
      ],
      "text/plain": [
       "⎡γ₁⋅(n₁ + 0.5)        0              0              0      ⎤\n",
       "⎢                                                          ⎥\n",
       "⎢      0        γ₁⋅(n₁ + 0.5)        0              0      ⎥\n",
       "⎢                                                          ⎥\n",
       "⎢      0              0        γ₁⋅(n₂ + 0.5)        0      ⎥\n",
       "⎢                                                          ⎥\n",
       "⎣      0              0              0        γ₁⋅(n₂ + 0.5)⎦"
      ]
     },
     "execution_count": 16,
     "metadata": {},
     "output_type": "execute_result"
    }
   ],
   "source": [
    "F= Matrix([[gamma1*(n1+ 1/2),0,0,0],[0,gamma1*(n1+ 1/2),0,0],[0,0,gamma1*(n2+ 1/2),0],[0,0,0,gamma1*(n2+ 1/2)]])\n",
    "F"
   ]
  },
  {
   "cell_type": "code",
   "execution_count": 17,
   "metadata": {},
   "outputs": [],
   "source": [
    "sol=LyapunovSS(W,F)"
   ]
  },
  {
   "cell_type": "code",
   "execution_count": 20,
   "metadata": {},
   "outputs": [
    {
     "data": {
      "text/latex": [
       "$\\displaystyle \\left[\\begin{matrix}\\frac{2 g^{2} n_{1} + 2 g^{2} n_{2} + 2 g^{2} + \\gamma_{1}^{2} n_{1} + \\frac{\\gamma_{1}^{2}}{2}}{4 g^{2} + \\gamma_{1}^{2}} & 0 & \\frac{i g \\gamma_{1} \\left(n_{1} - n_{2}\\right)}{4 g^{2} + \\gamma_{1}^{2}} & 0\\\\0 & \\frac{2 g^{2} n_{1} + 2 g^{2} n_{2} + 2 g^{2} + \\gamma_{1}^{2} n_{1} + \\frac{\\gamma_{1}^{2}}{2}}{4 g^{2} + \\gamma_{1}^{2}} & 0 & - \\frac{i g \\gamma_{1} \\left(n_{1} - n_{2}\\right)}{4 g^{2} + \\gamma_{1}^{2}}\\\\- \\frac{i g \\gamma_{1} \\left(n_{1} - n_{2}\\right)}{4 g^{2} + \\gamma_{1}^{2}} & 0 & \\frac{2 g^{2} n_{1} + 2 g^{2} n_{2} + 2 g^{2} + \\gamma_{1}^{2} n_{2} + \\frac{\\gamma_{1}^{2}}{2}}{4 g^{2} + \\gamma_{1}^{2}} & 0\\\\0 & \\frac{i g \\gamma_{1} \\left(n_{1} - n_{2}\\right)}{4 g^{2} + \\gamma_{1}^{2}} & 0 & \\frac{2 g^{2} n_{1} + 2 g^{2} n_{2} + 2 g^{2} + \\gamma_{1}^{2} n_{2} + \\frac{\\gamma_{1}^{2}}{2}}{4 g^{2} + \\gamma_{1}^{2}}\\end{matrix}\\right]$"
      ],
      "text/plain": [
       "⎡                                      2                                      \n",
       "⎢   2         2         2     2      γ₁                                       \n",
       "⎢2⋅g ⋅n₁ + 2⋅g ⋅n₂ + 2⋅g  + γ₁ ⋅n₁ + ───                                      \n",
       "⎢                                     2                                       \n",
       "⎢───────────────────────────────────────                     0                \n",
       "⎢                  2     2                                                    \n",
       "⎢               4⋅g  + γ₁                                                     \n",
       "⎢                                                                             \n",
       "⎢                                                                             \n",
       "⎢                                            2         2         2     2      \n",
       "⎢                                         2⋅g ⋅n₁ + 2⋅g ⋅n₂ + 2⋅g  + γ₁ ⋅n₁ + \n",
       "⎢                                                                             \n",
       "⎢                   0                     ────────────────────────────────────\n",
       "⎢                                                           2     2           \n",
       "⎢                                                        4⋅g  + γ₁            \n",
       "⎢                                                                             \n",
       "⎢                                                                             \n",
       "⎢                                                                             \n",
       "⎢                                                                             \n",
       "⎢          -ⅈ⋅g⋅γ₁⋅(n₁ - n₂)                                                  \n",
       "⎢          ──────────────────                                0                \n",
       "⎢                 2     2                                                     \n",
       "⎢              4⋅g  + γ₁                                                      \n",
       "⎢                                                                             \n",
       "⎢                                                                             \n",
       "⎢                                                                             \n",
       "⎢                                                                             \n",
       "⎢                                                    ⅈ⋅g⋅γ₁⋅(n₁ - n₂)         \n",
       "⎢                   0                                ────────────────         \n",
       "⎢                                                          2     2            \n",
       "⎣                                                       4⋅g  + γ₁             \n",
       "\n",
       "                                                                              \n",
       "                                                                              \n",
       "                                                                              \n",
       "                ⅈ⋅g⋅γ₁⋅(n₁ - n₂)                                              \n",
       "                ────────────────                                 0            \n",
       "                      2     2                                                 \n",
       "                   4⋅g  + γ₁                                                  \n",
       "                                                                              \n",
       "  2                                                                           \n",
       "γ₁                                                                            \n",
       "───                                                                           \n",
       " 2                                                      -ⅈ⋅g⋅γ₁⋅(n₁ - n₂)     \n",
       "───                     0                               ──────────────────    \n",
       "                                                               2     2        \n",
       "                                                            4⋅g  + γ₁         \n",
       "                                                                              \n",
       "                                           2                                  \n",
       "        2         2         2     2      γ₁                                   \n",
       "     2⋅g ⋅n₁ + 2⋅g ⋅n₂ + 2⋅g  + γ₁ ⋅n₂ + ───                                  \n",
       "                                          2                                   \n",
       "     ───────────────────────────────────────                     0            \n",
       "                       2     2                                                \n",
       "                    4⋅g  + γ₁                                                 \n",
       "                                                                              \n",
       "                                                                              \n",
       "                                                 2         2         2     2  \n",
       "                                              2⋅g ⋅n₁ + 2⋅g ⋅n₂ + 2⋅g  + γ₁ ⋅n\n",
       "                                                                              \n",
       "                        0                     ────────────────────────────────\n",
       "                                                                2     2       \n",
       "                                                             4⋅g  + γ₁        \n",
       "\n",
       "       ⎤\n",
       "       ⎥\n",
       "       ⎥\n",
       "       ⎥\n",
       "       ⎥\n",
       "       ⎥\n",
       "       ⎥\n",
       "       ⎥\n",
       "       ⎥\n",
       "       ⎥\n",
       "       ⎥\n",
       "       ⎥\n",
       "       ⎥\n",
       "       ⎥\n",
       "       ⎥\n",
       "       ⎥\n",
       "       ⎥\n",
       "       ⎥\n",
       "       ⎥\n",
       "       ⎥\n",
       "       ⎥\n",
       "       ⎥\n",
       "       ⎥\n",
       "       ⎥\n",
       "      2⎥\n",
       "    γ₁ ⎥\n",
       "₂ + ───⎥\n",
       "     2 ⎥\n",
       "───────⎥\n",
       "       ⎥\n",
       "       ⎦"
      ]
     },
     "execution_count": 20,
     "metadata": {},
     "output_type": "execute_result"
    }
   ],
   "source": [
    "simplify(sol,rational=true)     "
   ]
  },
  {
   "cell_type": "markdown",
   "metadata": {},
   "source": [
    "# To put it in the form of the  the paper the diagonal elements need to be further simplified, since there are only two different elements in the Diagonal we just simplify those, we need to substract $\\frac{1}{2}$ and add a zero $n_{1}-n_{1}$ or $n_{1}-n_{1}$ respectively,we start by obtaining $\\langle a^{\\dagger}_{1} a_{1}\\rangle$"
   ]
  },
  {
   "cell_type": "code",
   "execution_count": 23,
   "metadata": {},
   "outputs": [
    {
     "data": {
      "image/png": "[encoded data removed]",
      "text/latex": [
       "$\\displaystyle - \\frac{2 g^{2} \\left(n_{1} - n_{2}\\right)}{4 g^{2} + \\gamma_{1}^{2}} + n_{1}$"
      ],
      "text/plain": [
       "     2               \n",
       "  2⋅g ⋅(n₁ - n₂)     \n",
       "- ────────────── + n₁\n",
       "       2     2       \n",
       "    4⋅g  + γ₁        "
      ]
     },
     "execution_count": 23,
     "metadata": {},
     "output_type": "execute_result"
    }
   ],
   "source": [
    "expr1=simplify(sol[0]-n1-1/2,rational=True)\n",
    "n1+expr1"
   ]
  },
  {
   "cell_type": "markdown",
   "metadata": {},
   "source": [
    "# We do the same to obtain $\\langle a^{\\dagger}_{2} a_{2}\\rangle$"
   ]
  },
  {
   "cell_type": "code",
   "execution_count": 24,
   "metadata": {},
   "outputs": [
    {
     "data": {
      "image/png": "[encoded data removed]",
      "text/latex": [
       "$\\displaystyle - \\frac{2 g^{2} \\left(n_{1} - n_{2}\\right)}{4 g^{2} + \\gamma_{1}^{2}} + n_{2}$"
      ],
      "text/plain": [
       "     2               \n",
       "  2⋅g ⋅(n₁ - n₂)     \n",
       "- ────────────── + n₂\n",
       "       2     2       \n",
       "    4⋅g  + γ₁        "
      ]
     },
     "execution_count": 24,
     "metadata": {},
     "output_type": "execute_result"
    }
   ],
   "source": [
    "expr2=simplify(sol[15]-n2-1/2,rational=True)\n",
    "n2+expr1"
   ]
  },
  {
   "cell_type": "markdown",
   "metadata": {},
   "source": [
    "# The cross terms can be seen directly from the matrix  $\\langle a^{\\dagger}_{2} a_{2}\\rangle$"
   ]
  },
  {
   "cell_type": "code",
   "execution_count": 25,
   "metadata": {},
   "outputs": [
    {
     "data": {
      "image/png": "[encoded data removed]",
      "text/latex": [
       "$\\displaystyle - \\frac{i g \\gamma_{1} \\left(n_{1} - n_{2}\\right)}{4 g^{2} + \\gamma_{1}^{2}}$"
      ],
      "text/plain": [
       "-ⅈ⋅g⋅γ₁⋅(n₁ - n₂) \n",
       "──────────────────\n",
       "       2     2    \n",
       "    4⋅g  + γ₁     "
      ]
     },
     "execution_count": 25,
     "metadata": {},
     "output_type": "execute_result"
    }
   ],
   "source": [
    "sol[8]"
   ]
  },
  {
   "cell_type": "markdown",
   "metadata": {},
   "source": [
    "# TO DO: do this procedure using symengine or some faster way to pull so this can be added to sympy natively"
   ]
  },
  {
   "cell_type": "code",
   "execution_count": null,
   "metadata": {},
   "outputs": [],
   "source": []
  }
 ],
 "metadata": {
  "kernelspec": {
   "display_name": "Python 3",
   "language": "python",
   "name": "python3"
  },
  "language_info": {
   "codemirror_mode": {
    "name": "ipython",
    "version": 3
   },
   "file_extension": ".py",
   "mimetype": "text/x-python",
   "name": "python",
   "nbconvert_exporter": "python",
   "pygments_lexer": "ipython3",
   "version": "3.7.6"
  }
 },
 "nbformat": 4,
 "nbformat_minor": 4
}
