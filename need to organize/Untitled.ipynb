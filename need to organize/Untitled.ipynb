{
 "cells": [
  {
   "cell_type": "code",
   "execution_count": 1,
   "metadata": {},
   "outputs": [
    {
     "data": {
      "text/latex": [
       "$\\displaystyle 1$"
      ],
      "text/plain": [
       "1"
      ]
     },
     "execution_count": 1,
     "metadata": {},
     "output_type": "execute_result"
    }
   ],
   "source": [
    "from sympy import *\n",
    "from sympy.physics.secondquant import * \n",
    "comm1=simplify(Commutator(B(0),Bd(0)).doit())\n",
    "comm1"
   ]
  },
  {
   "cell_type": "code",
   "execution_count": 5,
   "metadata": {},
   "outputs": [
    {
     "name": "stdout",
     "output_type": "stream",
     "text": [
      "g*(-AnnihilateBoson(0)*CreateBoson(0)*AnnihilateBoson(1) + CreateBoson(0)*AnnihilateBoson(1)*AnnihilateBoson(0)) + w1*(-AnnihilateBoson(0)*AnnihilateBoson(1)*CreateBoson(1) + AnnihilateBoson(1)*CreateBoson(1)*AnnihilateBoson(0)) + w1*(AnnihilateBoson(0)*CreateBoson(0)*AnnihilateBoson(0) - AnnihilateBoson(0)**2*CreateBoson(0)) + conjugate(g)*(-AnnihilateBoson(0)*CreateBoson(1)*AnnihilateBoson(0) + CreateBoson(1)*AnnihilateBoson(0)**2)\n"
     ]
    }
   ],
   "source": [
    "w1,w2,g=symbols('w1 w1 g')\n",
    "H=w1*B(0)*Bd(0)+w2*B(1)*Bd(1)+g*Bd(0)*B(1)+conjugate(g)*Bd(1)*B(0)\n",
    "\n",
    "comm2=simplify(Commutator(H,B(0)))\n",
    "print(comm2)"
   ]
  },
  {
   "cell_type": "code",
   "execution_count": null,
   "metadata": {},
   "outputs": [],
   "source": []
  }
 ],
 "metadata": {
  "kernelspec": {
   "display_name": "Python 3",
   "language": "python",
   "name": "python3"
  },
  "language_info": {
   "codemirror_mode": {
    "name": "ipython",
    "version": 3
   },
   "file_extension": ".py",
   "mimetype": "text/x-python",
   "name": "python",
   "nbconvert_exporter": "python",
   "pygments_lexer": "ipython3",
   "version": "3.7.6"
  }
 },
 "nbformat": 4,
 "nbformat_minor": 2
}
