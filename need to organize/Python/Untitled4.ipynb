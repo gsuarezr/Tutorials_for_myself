{
 "cells": [
  {
   "cell_type": "code",
   "execution_count": 2,
   "metadata": {},
   "outputs": [],
   "source": [
    "from sympy import *\n",
    "import numpy as np"
   ]
  },
  {
   "cell_type": "code",
   "execution_count": 15,
   "metadata": {},
   "outputs": [],
   "source": [
    "   \n",
    "init_printing(use_unicode=True)\n",
    "a,b,c = symbols('a b c')\n",
    "    \n",
    " "
   ]
  },
  {
   "cell_type": "code",
   "execution_count": 23,
   "metadata": {},
   "outputs": [],
   "source": [
    "B=Matrix([[0,a, 0,0],\n",
    "        [a,0,0,0],\n",
    "        [0,0,0,I*b],\n",
    "        [0,0,I*b,0]])"
   ]
  },
  {
   "cell_type": "code",
   "execution_count": 16,
   "metadata": {},
   "outputs": [],
   "source": [
    "c=a+I* b"
   ]
  },
  {
   "cell_type": "code",
   "execution_count": 24,
   "metadata": {},
   "outputs": [
    {
     "data": {
      "image/png": "[encoded data removed]",
      "text/latex": [
       "$\\displaystyle \\left[\\begin{matrix}a \\overline{a} & 0 & 0 & 0\\\\0 & a \\overline{a} & 0 & 0\\\\0 & 0 & b \\overline{b} & 0\\\\0 & 0 & 0 & b \\overline{b}\\end{matrix}\\right]$"
      ],
      "text/plain": [
       "⎡  _               ⎤\n",
       "⎢a⋅a   0    0    0 ⎥\n",
       "⎢                  ⎥\n",
       "⎢       _          ⎥\n",
       "⎢ 0   a⋅a   0    0 ⎥\n",
       "⎢                  ⎥\n",
       "⎢            _     ⎥\n",
       "⎢ 0    0   b⋅b   0 ⎥\n",
       "⎢                  ⎥\n",
       "⎢                 _⎥\n",
       "⎣ 0    0    0   b⋅b⎦"
      ]
     },
     "execution_count": 24,
     "metadata": {},
     "output_type": "execute_result"
    }
   ],
   "source": [
    "B*conjugate(B.T)"
   ]
  },
  {
   "cell_type": "code",
   "execution_count": null,
   "metadata": {},
   "outputs": [],
   "source": []
  }
 ],
 "metadata": {
  "kernelspec": {
   "display_name": "Python 3",
   "language": "python",
   "name": "python3"
  },
  "language_info": {
   "codemirror_mode": {
    "name": "ipython",
    "version": 3
   },
   "file_extension": ".py",
   "mimetype": "text/x-python",
   "name": "python",
   "nbconvert_exporter": "python",
   "pygments_lexer": "ipython3",
   "version": "3.7.3"
  }
 },
 "nbformat": 4,
 "nbformat_minor": 2
}
