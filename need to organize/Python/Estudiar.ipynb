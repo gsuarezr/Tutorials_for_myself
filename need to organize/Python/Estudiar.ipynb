{
 "cells": [
  {
   "cell_type": "code",
   "execution_count": 1,
   "metadata": {},
   "outputs": [],
   "source": [
    "import random as rd\n",
    "from os import listdir"
   ]
  },
  {
   "cell_type": "code",
   "execution_count": 2,
   "metadata": {},
   "outputs": [],
   "source": [
    "path=\"/home/gerardo/Desktop/Libros/Papers/Leer\"\n",
    "papers=listdir(path)"
   ]
  },
  {
   "cell_type": "code",
   "execution_count": 22,
   "metadata": {},
   "outputs": [],
   "source": [
    "Estudiar=[\"tesis\",\"papers\",\"Informacion Cuantica\",\"Mathematica\",\"Predoctorales\",\n",
    "          \"Systems Biology\",\"Neuroscience\",\"Biophysics\",\"Nonlinear Dynamics\",\n",
    "          \"Classical Dynamics\",\"Geometrical Methods\",\"Statistical Physics\",\n",
    "          \"Optics Engineering\",\"Electronics\",\"Data and AI\",\"Forex\",\n",
    "          \"Quantum Open Systems\",\"Quantum Foundations\",\"Simulink and Matlab\",\n",
    "         \"Beamprop and other simulation in optics\",\"Quantum Control\"]"
   ]
  },
  {
   "cell_type": "code",
   "execution_count": 3,
   "metadata": {},
   "outputs": [
    {
     "data": {
      "text/plain": [
       "'Cruz_y_Cruz_2016_J._Phys.__Conf._Ser._698_012002.pdf'"
      ]
     },
     "execution_count": 3,
     "metadata": {},
     "output_type": "execute_result"
    }
   ],
   "source": [
    "rd.choice(papers)"
   ]
  },
  {
   "cell_type": "code",
   "execution_count": 24,
   "metadata": {},
   "outputs": [],
   "source": [
    "What=[\"Experimental\",\"Theory\"]"
   ]
  },
  {
   "cell_type": "code",
   "execution_count": 25,
   "metadata": {},
   "outputs": [
    {
     "data": {
      "text/plain": [
       "'Experimental'"
      ]
     },
     "execution_count": 25,
     "metadata": {},
     "output_type": "execute_result"
    }
   ],
   "source": [
    "rd.choice(What)"
   ]
  },
  {
   "cell_type": "code",
   "execution_count": null,
   "metadata": {},
   "outputs": [],
   "source": []
  }
 ],
 "metadata": {
  "kernelspec": {
   "display_name": "Python 3",
   "language": "python",
   "name": "python3"
  },
  "language_info": {
   "codemirror_mode": {
    "name": "ipython",
    "version": 3
   },
   "file_extension": ".py",
   "mimetype": "text/x-python",
   "name": "python",
   "nbconvert_exporter": "python",
   "pygments_lexer": "ipython3",
   "version": "3.7.3"
  }
 },
 "nbformat": 4,
 "nbformat_minor": 2
}
