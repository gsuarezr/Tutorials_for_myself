{
 "cells": [
  {
   "cell_type": "markdown",
   "metadata": {},
   "source": [
    "Diferenciacion y integracion simbolica"
   ]
  },
  {
   "cell_type": "code",
   "execution_count": 1,
   "metadata": {},
   "outputs": [],
   "source": [
    "from sympy import *\n",
    "init_printing(use_unicode=True)"
   ]
  },
  {
   "cell_type": "markdown",
   "metadata": {},
   "source": [
    "Supongamos que queremos diferenciar e integrar seno de x , de manera simbolica , primero debemos decirle a python que x y a son variables symbolicas"
   ]
  },
  {
   "cell_type": "code",
   "execution_count": 2,
   "metadata": {},
   "outputs": [],
   "source": [
    "x,a= symbols('x a')"
   ]
  },
  {
   "cell_type": "markdown",
   "metadata": {},
   "source": [
    "Luego Simplemente mandamos las instrucciones de diferenciacion e integracion"
   ]
  },
  {
   "cell_type": "code",
   "execution_count": 4,
   "metadata": {},
   "outputs": [
    {
     "data": {
      "image/png": "[encoded data removed]",
      "text/latex": [
       "$\\displaystyle a \\cos{\\left(a x \\right)}$"
      ],
      "text/plain": [
       "a⋅cos(a⋅x)"
      ]
     },
     "execution_count": 4,
     "metadata": {},
     "output_type": "execute_result"
    }
   ],
   "source": [
    "diff(sin(a*x),x) #derivamos "
   ]
  },
  {
   "cell_type": "code",
   "execution_count": 5,
   "metadata": {},
   "outputs": [
    {
     "data": {
      "text/latex": [
       "$\\displaystyle \\begin{cases} - \\frac{\\cos{\\left(a x \\right)}}{a} & \\text{for}\\: a \\neq 0 \\\\0 & \\text{otherwise} \\end{cases}$"
      ],
      "text/plain": [
       "⎧-cos(a⋅x)            \n",
       "⎪──────────  for a ≠ 0\n",
       "⎨    a                \n",
       "⎪                     \n",
       "⎩    0       otherwise"
      ]
     },
     "execution_count": 5,
     "metadata": {},
     "output_type": "execute_result"
    }
   ],
   "source": [
    "integrate(sin(a*x),x)# integramos "
   ]
  },
  {
   "cell_type": "code",
   "execution_count": 6,
   "metadata": {},
   "outputs": [
    {
     "data": {
      "text/latex": [
       "$\\displaystyle \\begin{cases} \\log{\\left(a x \\right)} - \\frac{\\log{\\left(a^{2} x^{2} \\right)}}{2} - \\operatorname{Ci}{\\left(a x \\right)} & \\text{for}\\: a < 0 \\\\\\log{\\left(a x \\right)} - \\frac{\\log{\\left(a^{2} x^{2} \\right)}}{2} - \\operatorname{Ci}{\\left(a x \\right)} - \\infty & \\text{otherwise} \\end{cases}$"
      ],
      "text/plain": [
       "⎧                ⎛ 2  2⎞                       \n",
       "⎪             log⎝a ⋅x ⎠                       \n",
       "⎪  log(a⋅x) - ────────── - Ci(a⋅x)    for a < 0\n",
       "⎪                 2                            \n",
       "⎨                                              \n",
       "⎪              ⎛ 2  2⎞                         \n",
       "⎪           log⎝a ⋅x ⎠                         \n",
       "⎪log(a⋅x) - ────────── - Ci(a⋅x) - ∞  otherwise\n",
       "⎩               2                              "
      ]
     },
     "execution_count": 6,
     "metadata": {},
     "output_type": "execute_result"
    }
   ],
   "source": [
    "integrate(sin(a*x),x,a) # la doble integral "
   ]
  },
  {
   "cell_type": "code",
   "execution_count": 7,
   "metadata": {},
   "outputs": [
    {
     "data": {
      "image/png": "[encoded data removed]",
      "text/latex": [
       "$\\displaystyle - a x \\sin{\\left(a x \\right)} + \\cos{\\left(a x \\right)}$"
      ],
      "text/plain": [
       "-a⋅x⋅sin(a⋅x) + cos(a⋅x)"
      ]
     },
     "execution_count": 7,
     "metadata": {},
     "output_type": "execute_result"
    }
   ],
   "source": [
    "diff(sin(a*x),x,a) #la doble derivada"
   ]
  },
  {
   "cell_type": "markdown",
   "metadata": {},
   "source": [
    "# Ahora bien si queremos hacer la integral de forma numerica, scipy es mas apropiado"
   ]
  },
  {
   "cell_type": "code",
   "execution_count": 8,
   "metadata": {},
   "outputs": [],
   "source": [
    "import scipy.integrate as Integrate"
   ]
  },
  {
   "cell_type": "code",
   "execution_count": 16,
   "metadata": {},
   "outputs": [
    {
     "data": {
      "image/png": "[encoded data removed]",
      "text/latex": [
       "$\\displaystyle 4.380922340353524e-14$"
      ],
      "text/plain": [
       "4.380922340353524e-14"
      ]
     },
     "execution_count": 16,
     "metadata": {},
     "output_type": "execute_result"
    }
   ],
   "source": [
    "result=Integrate.quad(lambda x:sin(x),0 ,2* pi)\n",
    "result[1]-result[0]"
   ]
  },
  {
   "cell_type": "markdown",
   "metadata": {},
   "source": [
    "# Vemos entonces que aunque el resultado deberia ser cero el metodo numerico nos da distinto de 0"
   ]
  },
  {
   "cell_type": "code",
   "execution_count": null,
   "metadata": {},
   "outputs": [],
   "source": []
  }
 ],
 "metadata": {
  "kernelspec": {
   "display_name": "Python 3",
   "language": "python",
   "name": "python3"
  },
  "language_info": {
   "codemirror_mode": {
    "name": "ipython",
    "version": 3
   },
   "file_extension": ".py",
   "mimetype": "text/x-python",
   "name": "python",
   "nbconvert_exporter": "python",
   "pygments_lexer": "ipython3",
   "version": "3.7.3"
  }
 },
 "nbformat": 4,
 "nbformat_minor": 2
}
