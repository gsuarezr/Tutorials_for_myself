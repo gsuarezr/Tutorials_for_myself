{
 "cells": [
  {
   "cell_type": "code",
   "execution_count": 7,
   "metadata": {
    "collapsed": true
   },
   "outputs": [],
   "source": [
    "import numpy as np"
   ]
  },
  {
   "cell_type": "code",
   "execution_count": 8,
   "metadata": {},
   "outputs": [
    {
     "name": "stdout",
     "output_type": "stream",
     "text": [
      "[1 2 3 4 5 6 7]\n"
     ]
    }
   ],
   "source": [
    "a=np.array([1,2,3,4,5,6,7])\n",
    "print(a)"
   ]
  },
  {
   "cell_type": "code",
   "execution_count": 9,
   "metadata": {
    "collapsed": true
   },
   "outputs": [],
   "source": [
    "import time"
   ]
  },
  {
   "cell_type": "code",
   "execution_count": 15,
   "metadata": {},
   "outputs": [
    {
     "name": "stdout",
     "output_type": "stream",
     "text": [
      "la version vectorizada tomo unos 5.974769592285156ms y dio como resultado 249873.4965291327\n"
     ]
    }
   ],
   "source": [
    "random_array=np.random.rand(10**6)\n",
    "random_array2=np.random.rand(10**6)\n",
    "c0=np.zeros(10**6)\n",
    "tic=time.time()\n",
    "c=np.dot(random_array,random_array2)\n",
    "c0=c\n",
    "toc=time.time()\n",
    "tiempo=toc-tic\n",
    "print(\"la version vectorizada tomo unos \"+str(1000*tiempo)+\"ms\"+\" y dio como resultado \"+str(c))"
   ]
  },
  {
   "cell_type": "code",
   "execution_count": 16,
   "metadata": {},
   "outputs": [
    {
     "name": "stdout",
     "output_type": "stream",
     "text": [
      "la version no vectorizada tomo unos 1239.4750118255615ms y dio como resultado 249873.49652913222\n"
     ]
    }
   ],
   "source": [
    "c=0\n",
    "tic=time.time()\n",
    "for i in range(10**6):\n",
    "    c +=random_array[i]*random_array2[i]\n",
    "toc=time.time()\n",
    "no_tiempo=toc-tic\n",
    "print(\"la version no vectorizada tomo unos \"+str(1000*no_tiempo)+\"ms\"+\" y dio como resultado \"+str(c))"
   ]
  },
  {
   "cell_type": "code",
   "execution_count": 19,
   "metadata": {},
   "outputs": [
    {
     "name": "stdout",
     "output_type": "stream",
     "text": [
      "lo cual nos indica que la vectorizacion es unas 207 veces mas rapidaademas el la diferencia entre ambas respuestas es de  alrededor de 1.9800624101275518e-13 %\n"
     ]
    }
   ],
   "source": [
    "error=((c0-c)/c0)*100\n",
    "print(\"lo cual nos indica que la vectorizacion es unas \"+str(int(no_tiempo / tiempo) )+\" veces mas rapida\"+\n",
    "      \"ademas el la diferencia entre ambas respuestas es de  alrededor de \"+str(error)+\" %\")"
   ]
  },
  {
   "cell_type": "code",
   "execution_count": 20,
   "metadata": {
    "collapsed": true
   },
   "outputs": [],
   "source": [
    "from numba import jit"
   ]
  },
  {
   "cell_type": "code",
   "execution_count": 22,
   "metadata": {},
   "outputs": [],
   "source": [
    "@jit\n",
    "def elloco():\n",
    "    random_array=np.random.rand(10**6)\n",
    "    random_array2=np.random.rand(10**6)\n",
    "    c0=np.zeros(10**6)\n",
    "    tic=time.time()\n",
    "    c=np.dot(random_array,random_array2)\n",
    "    c0=c\n",
    "    toc=time.time()\n",
    "    tiempo=toc-tic\n",
    "    return print(\"la version vectorizada tomo unos \"+str(1000*tiempo)+\"ms\"+\" y dio como resultado \"+str(c))"
   ]
  },
  {
   "cell_type": "code",
   "execution_count": 23,
   "metadata": {},
   "outputs": [
    {
     "name": "stdout",
     "output_type": "stream",
     "text": [
      "la version vectorizada tomo unos 6.380319595336914ms y dio como resultado 250005.71685912198\n"
     ]
    }
   ],
   "source": [
    "elloco()"
   ]
  },
  {
   "cell_type": "markdown",
   "metadata": {},
   "source": [
    "### aumentar numero de datos y realizar una grafica linda para pysics"
   ]
  },
  {
   "cell_type": "code",
   "execution_count": null,
   "metadata": {
    "collapsed": true
   },
   "outputs": [],
   "source": []
  }
 ],
 "metadata": {
  "kernelspec": {
   "display_name": "Python 3",
   "language": "python",
   "name": "python3"
  },
  "language_info": {
   "codemirror_mode": {
    "name": "ipython",
    "version": 3
   },
   "file_extension": ".py",
   "mimetype": "text/x-python",
   "name": "python",
   "nbconvert_exporter": "python",
   "pygments_lexer": "ipython3",
   "version": "3.6.1"
  }
 },
 "nbformat": 4,
 "nbformat_minor": 2
}
